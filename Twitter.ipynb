{
 "cells": [
  {
   "cell_type": "code",
   "execution_count": 1,
   "metadata": {},
   "outputs": [],
   "source": [
    "import tweepy as tw\n",
    " \n",
    "consumer_key = \"0gqdGWN646HoGk3g0HaWnc77z\"\n",
    "consumer_secret = \"etr1KsZytiH3huIgM8EfSrWG7Ka7opOuPkuduFCxVEsxkAaXdh\"\n",
    "access_token = \"1036747165358587910-9nV5GBlP28Hn13fAP4ym8V6SuwDIcH\"\n",
    "access_token_secret = \"AItfutGZxRTAupTGjPiBIbXHn8MAMg9kLn7HH3v09Wobj\""
   ]
  },
  {
   "cell_type": "code",
   "execution_count": 2,
   "metadata": {},
   "outputs": [],
   "source": [
    "auth = tw.OAuthHandler(consumer_key,consumer_secret)\n",
    "auth.set_access_token(access_token,access_token_secret)\n",
    "api = tw.API(auth)"
   ]
  },
  {
   "cell_type": "markdown",
   "metadata": {},
   "source": [
    "buscas antes dos resultados:\n",
    "1. ditadura - bolsonaro (data1)\n",
    "2. facismo - medo (data2)\n",
    "3. socialismo - medo (data3)\n",
    "4. Brasil - eleições (data4)\n",
    "5. eleições - desenvolvimento (data5)\n",
    "6. voto - bolsonaro (data6)\n",
    "7. voto - haddad (data7)\n",
    "8. fake news - whatsapp (data8)\n",
    "9. mourão- bolsonaro (data9)\n",
    "10. manoela - haddad (data10)\n",
    "11. lula- povo (data11)\n",
    "12. stf - eleições (data12)\n",
    "13. espalhar- fake news-  (data13)\n",
    "14. lula - bolsonaro (data14)\n",
    "15. lula - haddad (data15)\n",
    "16. lula - ladrão (data16)\n",
    "17. general - bolsonaro (data17)\n",
    "18. socialismo - haddad (data18)\n",
    "19. lula- livre (data19)"
   ]
  },
  {
   "cell_type": "code",
   "execution_count": 3,
   "metadata": {},
   "outputs": [],
   "source": [
    "class CustomStreamListener(tw.StreamListener):\n",
    "    def on_status(self, tweet):\n",
    "        \n",
    "        if hasattr(tweet, 'retweeted_status'):\n",
    "            try:\n",
    "                aux = tweet.retweeted_status.extended_tweet[\"full_text\"]\n",
    "            except:\n",
    "                aux = tweet.retweeted_status.text\n",
    "        else:\n",
    "            try:\n",
    "                aux = tweet.extended_tweet[\"full_text\"]\n",
    "            except AttributeError:\n",
    "                aux = tweet.text\n",
    "        \n",
    "        #print(aux)\n",
    "        #print(tweet.author.screen_name)\n",
    "        #print(tweet.text.full_text+ '\\n\\n')\n",
    "        newtext = aux.replace(\"\\n\", \" \")\n",
    "        \n",
    "        file = open(\"anastasia.txt\", \"a\", -1, \"utf-8\")\n",
    "        file.write(newtext+'\\n')\n",
    "        file.close()\n",
    "        \n",
    "        return(True)\n",
    "    \n",
    "    def on_error(self, status_code):\n",
    "        print(\"Erro com o código:\", status_code)\n",
    "        return(True)\n",
    "    \n",
    "    def on_timeout(self):\n",
    "        print(\"Tempo esgotado!\")\n",
    "        return(True)\n"
   ]
  },
  {
   "cell_type": "code",
   "execution_count": null,
   "metadata": {},
   "outputs": [],
   "source": [
    "##Criando o minerador com timeout de 60 seg\n",
    "streaming_api = tw.streaming.Stream(auth, CustomStreamListener(), async=True,stall_warnings=True,timeout=60)\n",
    "from urllib3.exceptions import ProtocolError\n",
    "while True:\n",
    "    try:\n",
    "        streaming_api.filter(follow=None, track=[\"anastasia\"], languages=[\"pt\"])\n",
    "\n",
    "    except (ProtocolError, AttributeError):\n",
    "        continue"
   ]
  },
  {
   "cell_type": "code",
   "execution_count": 1,
   "metadata": {
    "scrolled": true
   },
   "outputs": [
    {
     "name": "stdout",
     "output_type": "stream",
     "text": [
      "Expecting value: line 1 column 1 (char 0)\n",
      "Expecting value: line 1 column 1 (char 0)\n",
      "Expecting value: line 1 column 1 (char 0)\n",
      "Expecting value: line 1 column 1 (char 0)\n"
     ]
    },
    {
     "ename": "KeyboardInterrupt",
     "evalue": "",
     "output_type": "error",
     "traceback": [
      "\u001b[1;31m---------------------------------------------------------------------------\u001b[0m",
      "\u001b[1;31mTypeError\u001b[0m                                 Traceback (most recent call last)",
      "\u001b[1;32m~\\Anaconda3\\lib\\site-packages\\urllib3\\connectionpool.py\u001b[0m in \u001b[0;36m_make_request\u001b[1;34m(self, conn, method, url, timeout, chunked, **httplib_request_kw)\u001b[0m\n\u001b[0;32m    376\u001b[0m             \u001b[1;32mtry\u001b[0m\u001b[1;33m:\u001b[0m  \u001b[1;31m# Python 2.7, use buffering of HTTP responses\u001b[0m\u001b[1;33m\u001b[0m\u001b[1;33m\u001b[0m\u001b[0m\n\u001b[1;32m--> 377\u001b[1;33m                 \u001b[0mhttplib_response\u001b[0m \u001b[1;33m=\u001b[0m \u001b[0mconn\u001b[0m\u001b[1;33m.\u001b[0m\u001b[0mgetresponse\u001b[0m\u001b[1;33m(\u001b[0m\u001b[0mbuffering\u001b[0m\u001b[1;33m=\u001b[0m\u001b[1;32mTrue\u001b[0m\u001b[1;33m)\u001b[0m\u001b[1;33m\u001b[0m\u001b[1;33m\u001b[0m\u001b[0m\n\u001b[0m\u001b[0;32m    378\u001b[0m             \u001b[1;32mexcept\u001b[0m \u001b[0mTypeError\u001b[0m\u001b[1;33m:\u001b[0m  \u001b[1;31m# Python 2.6 and older, Python 3\u001b[0m\u001b[1;33m\u001b[0m\u001b[1;33m\u001b[0m\u001b[0m\n",
      "\u001b[1;31mTypeError\u001b[0m: getresponse() got an unexpected keyword argument 'buffering'",
      "\nDuring handling of the above exception, another exception occurred:\n",
      "\u001b[1;31mKeyboardInterrupt\u001b[0m                         Traceback (most recent call last)",
      "\u001b[1;32m<ipython-input-1-48c776886310>\u001b[0m in \u001b[0;36m<module>\u001b[1;34m\u001b[0m\n\u001b[0;32m     18\u001b[0m         \u001b[1;32mtry\u001b[0m\u001b[1;33m:\u001b[0m\u001b[1;33m\u001b[0m\u001b[1;33m\u001b[0m\u001b[0m\n\u001b[0;32m     19\u001b[0m             \u001b[1;31m#print(linha)\u001b[0m\u001b[1;33m\u001b[0m\u001b[1;33m\u001b[0m\u001b[1;33m\u001b[0m\u001b[0m\n\u001b[1;32m---> 20\u001b[1;33m             \u001b[0mtranslated\u001b[0m \u001b[1;33m=\u001b[0m \u001b[0mtranslator\u001b[0m\u001b[1;33m.\u001b[0m\u001b[0mtranslate\u001b[0m\u001b[1;33m(\u001b[0m\u001b[0mtext\u001b[0m\u001b[1;33m=\u001b[0m\u001b[0memoji_pattern\u001b[0m\u001b[1;33m.\u001b[0m\u001b[0msub\u001b[0m\u001b[1;33m(\u001b[0m\u001b[1;34mr''\u001b[0m\u001b[1;33m,\u001b[0m \u001b[0mlinha\u001b[0m\u001b[1;33m)\u001b[0m\u001b[1;33m,\u001b[0m \u001b[0mdest\u001b[0m\u001b[1;33m=\u001b[0m\u001b[1;34m'en'\u001b[0m\u001b[1;33m)\u001b[0m\u001b[1;33m.\u001b[0m\u001b[0mtext\u001b[0m\u001b[1;33m\u001b[0m\u001b[1;33m\u001b[0m\u001b[0m\n\u001b[0m\u001b[0;32m     21\u001b[0m             \u001b[0mdata\u001b[0m\u001b[1;33m.\u001b[0m\u001b[0mappend\u001b[0m\u001b[1;33m(\u001b[0m\u001b[0mtranslated\u001b[0m\u001b[1;33m)\u001b[0m\u001b[1;33m\u001b[0m\u001b[1;33m\u001b[0m\u001b[0m\n\u001b[0;32m     22\u001b[0m             \u001b[0ma\u001b[0m\u001b[1;33m+=\u001b[0m\u001b[1;36m1\u001b[0m\u001b[1;33m\u001b[0m\u001b[1;33m\u001b[0m\u001b[0m\n",
      "\u001b[1;32m~\\Anaconda3\\lib\\site-packages\\py_translator\\client.py\u001b[0m in \u001b[0;36mtranslate\u001b[1;34m(self, text, dest, src)\u001b[0m\n\u001b[0;32m    170\u001b[0m \u001b[1;33m\u001b[0m\u001b[0m\n\u001b[0;32m    171\u001b[0m         \u001b[0morigin\u001b[0m \u001b[1;33m=\u001b[0m \u001b[0mtext\u001b[0m\u001b[1;33m\u001b[0m\u001b[1;33m\u001b[0m\u001b[0m\n\u001b[1;32m--> 172\u001b[1;33m         \u001b[0mdata\u001b[0m \u001b[1;33m=\u001b[0m \u001b[0mself\u001b[0m\u001b[1;33m.\u001b[0m\u001b[0m_translate\u001b[0m\u001b[1;33m(\u001b[0m\u001b[0mtext\u001b[0m\u001b[1;33m,\u001b[0m \u001b[0mdest\u001b[0m\u001b[1;33m,\u001b[0m \u001b[0msrc\u001b[0m\u001b[1;33m)\u001b[0m\u001b[1;33m\u001b[0m\u001b[1;33m\u001b[0m\u001b[0m\n\u001b[0m\u001b[0;32m    173\u001b[0m \u001b[1;33m\u001b[0m\u001b[0m\n\u001b[0;32m    174\u001b[0m         \u001b[1;31m# this code will be updated when the format is changed.\u001b[0m\u001b[1;33m\u001b[0m\u001b[1;33m\u001b[0m\u001b[1;33m\u001b[0m\u001b[0m\n",
      "\u001b[1;32m~\\Anaconda3\\lib\\site-packages\\py_translator\\client.py\u001b[0m in \u001b[0;36m_translate\u001b[1;34m(self, text, dest, src)\u001b[0m\n\u001b[0;32m     73\u001b[0m             \u001b[0mtext\u001b[0m \u001b[1;33m=\u001b[0m \u001b[0mtext\u001b[0m\u001b[1;33m.\u001b[0m\u001b[0mdecode\u001b[0m\u001b[1;33m(\u001b[0m\u001b[1;34m'utf-8'\u001b[0m\u001b[1;33m)\u001b[0m\u001b[1;33m\u001b[0m\u001b[1;33m\u001b[0m\u001b[0m\n\u001b[0;32m     74\u001b[0m \u001b[1;33m\u001b[0m\u001b[0m\n\u001b[1;32m---> 75\u001b[1;33m         \u001b[0mtoken\u001b[0m \u001b[1;33m=\u001b[0m \u001b[0mself\u001b[0m\u001b[1;33m.\u001b[0m\u001b[0mtoken_acquirer\u001b[0m\u001b[1;33m.\u001b[0m\u001b[0mdo\u001b[0m\u001b[1;33m(\u001b[0m\u001b[0mtext\u001b[0m\u001b[1;33m)\u001b[0m\u001b[1;33m\u001b[0m\u001b[1;33m\u001b[0m\u001b[0m\n\u001b[0m\u001b[0;32m     76\u001b[0m         params = utils.build_params(query=text, src=src, dest=dest,\n\u001b[0;32m     77\u001b[0m                                     token=token)\n",
      "\u001b[1;32m~\\Anaconda3\\lib\\site-packages\\py_translator\\gtoken.py\u001b[0m in \u001b[0;36mdo\u001b[1;34m(self, text)\u001b[0m\n\u001b[0;32m    182\u001b[0m \u001b[1;33m\u001b[0m\u001b[0m\n\u001b[0;32m    183\u001b[0m     \u001b[1;32mdef\u001b[0m \u001b[0mdo\u001b[0m\u001b[1;33m(\u001b[0m\u001b[0mself\u001b[0m\u001b[1;33m,\u001b[0m \u001b[0mtext\u001b[0m\u001b[1;33m)\u001b[0m\u001b[1;33m:\u001b[0m\u001b[1;33m\u001b[0m\u001b[1;33m\u001b[0m\u001b[0m\n\u001b[1;32m--> 184\u001b[1;33m         \u001b[0mself\u001b[0m\u001b[1;33m.\u001b[0m\u001b[0m_update\u001b[0m\u001b[1;33m(\u001b[0m\u001b[1;33m)\u001b[0m\u001b[1;33m\u001b[0m\u001b[1;33m\u001b[0m\u001b[0m\n\u001b[0m\u001b[0;32m    185\u001b[0m         \u001b[0mtk\u001b[0m \u001b[1;33m=\u001b[0m \u001b[0mself\u001b[0m\u001b[1;33m.\u001b[0m\u001b[0macquire\u001b[0m\u001b[1;33m(\u001b[0m\u001b[0mtext\u001b[0m\u001b[1;33m)\u001b[0m\u001b[1;33m\u001b[0m\u001b[1;33m\u001b[0m\u001b[0m\n\u001b[0;32m    186\u001b[0m         \u001b[1;32mreturn\u001b[0m \u001b[0mtk\u001b[0m\u001b[1;33m\u001b[0m\u001b[1;33m\u001b[0m\u001b[0m\n",
      "\u001b[1;32m~\\Anaconda3\\lib\\site-packages\\py_translator\\gtoken.py\u001b[0m in \u001b[0;36m_update\u001b[1;34m(self)\u001b[0m\n\u001b[0;32m     53\u001b[0m         \"\"\"\n\u001b[0;32m     54\u001b[0m         \u001b[1;31m# we don't need to update the base TKK value when it is still valid\u001b[0m\u001b[1;33m\u001b[0m\u001b[1;33m\u001b[0m\u001b[1;33m\u001b[0m\u001b[0m\n\u001b[1;32m---> 55\u001b[1;33m         \u001b[0mr\u001b[0m \u001b[1;33m=\u001b[0m \u001b[0mself\u001b[0m\u001b[1;33m.\u001b[0m\u001b[0msession\u001b[0m\u001b[1;33m.\u001b[0m\u001b[0mget\u001b[0m\u001b[1;33m(\u001b[0m\u001b[0mself\u001b[0m\u001b[1;33m.\u001b[0m\u001b[0mhost\u001b[0m\u001b[1;33m)\u001b[0m\u001b[1;33m\u001b[0m\u001b[1;33m\u001b[0m\u001b[0m\n\u001b[0m\u001b[0;32m     56\u001b[0m         \u001b[0mself\u001b[0m\u001b[1;33m.\u001b[0m\u001b[0mtkk\u001b[0m \u001b[1;33m=\u001b[0m \u001b[0mself\u001b[0m\u001b[1;33m.\u001b[0m\u001b[0mRE_TKK\u001b[0m\u001b[1;33m.\u001b[0m\u001b[0mfindall\u001b[0m\u001b[1;33m(\u001b[0m\u001b[0mr\u001b[0m\u001b[1;33m.\u001b[0m\u001b[0mtext\u001b[0m\u001b[1;33m)\u001b[0m\u001b[1;33m[\u001b[0m\u001b[1;36m0\u001b[0m\u001b[1;33m]\u001b[0m\u001b[1;33m\u001b[0m\u001b[1;33m\u001b[0m\u001b[0m\n\u001b[0;32m     57\u001b[0m \u001b[1;33m\u001b[0m\u001b[0m\n",
      "\u001b[1;32m~\\Anaconda3\\lib\\site-packages\\requests\\sessions.py\u001b[0m in \u001b[0;36mget\u001b[1;34m(self, url, **kwargs)\u001b[0m\n\u001b[0;32m    523\u001b[0m \u001b[1;33m\u001b[0m\u001b[0m\n\u001b[0;32m    524\u001b[0m         \u001b[0mkwargs\u001b[0m\u001b[1;33m.\u001b[0m\u001b[0msetdefault\u001b[0m\u001b[1;33m(\u001b[0m\u001b[1;34m'allow_redirects'\u001b[0m\u001b[1;33m,\u001b[0m \u001b[1;32mTrue\u001b[0m\u001b[1;33m)\u001b[0m\u001b[1;33m\u001b[0m\u001b[1;33m\u001b[0m\u001b[0m\n\u001b[1;32m--> 525\u001b[1;33m         \u001b[1;32mreturn\u001b[0m \u001b[0mself\u001b[0m\u001b[1;33m.\u001b[0m\u001b[0mrequest\u001b[0m\u001b[1;33m(\u001b[0m\u001b[1;34m'GET'\u001b[0m\u001b[1;33m,\u001b[0m \u001b[0murl\u001b[0m\u001b[1;33m,\u001b[0m \u001b[1;33m**\u001b[0m\u001b[0mkwargs\u001b[0m\u001b[1;33m)\u001b[0m\u001b[1;33m\u001b[0m\u001b[1;33m\u001b[0m\u001b[0m\n\u001b[0m\u001b[0;32m    526\u001b[0m \u001b[1;33m\u001b[0m\u001b[0m\n\u001b[0;32m    527\u001b[0m     \u001b[1;32mdef\u001b[0m \u001b[0moptions\u001b[0m\u001b[1;33m(\u001b[0m\u001b[0mself\u001b[0m\u001b[1;33m,\u001b[0m \u001b[0murl\u001b[0m\u001b[1;33m,\u001b[0m \u001b[1;33m**\u001b[0m\u001b[0mkwargs\u001b[0m\u001b[1;33m)\u001b[0m\u001b[1;33m:\u001b[0m\u001b[1;33m\u001b[0m\u001b[1;33m\u001b[0m\u001b[0m\n",
      "\u001b[1;32m~\\Anaconda3\\lib\\site-packages\\requests\\sessions.py\u001b[0m in \u001b[0;36mrequest\u001b[1;34m(self, method, url, params, data, headers, cookies, files, auth, timeout, allow_redirects, proxies, hooks, stream, verify, cert, json)\u001b[0m\n\u001b[0;32m    510\u001b[0m         }\n\u001b[0;32m    511\u001b[0m         \u001b[0msend_kwargs\u001b[0m\u001b[1;33m.\u001b[0m\u001b[0mupdate\u001b[0m\u001b[1;33m(\u001b[0m\u001b[0msettings\u001b[0m\u001b[1;33m)\u001b[0m\u001b[1;33m\u001b[0m\u001b[1;33m\u001b[0m\u001b[0m\n\u001b[1;32m--> 512\u001b[1;33m         \u001b[0mresp\u001b[0m \u001b[1;33m=\u001b[0m \u001b[0mself\u001b[0m\u001b[1;33m.\u001b[0m\u001b[0msend\u001b[0m\u001b[1;33m(\u001b[0m\u001b[0mprep\u001b[0m\u001b[1;33m,\u001b[0m \u001b[1;33m**\u001b[0m\u001b[0msend_kwargs\u001b[0m\u001b[1;33m)\u001b[0m\u001b[1;33m\u001b[0m\u001b[1;33m\u001b[0m\u001b[0m\n\u001b[0m\u001b[0;32m    513\u001b[0m \u001b[1;33m\u001b[0m\u001b[0m\n\u001b[0;32m    514\u001b[0m         \u001b[1;32mreturn\u001b[0m \u001b[0mresp\u001b[0m\u001b[1;33m\u001b[0m\u001b[1;33m\u001b[0m\u001b[0m\n",
      "\u001b[1;32m~\\Anaconda3\\lib\\site-packages\\requests\\sessions.py\u001b[0m in \u001b[0;36msend\u001b[1;34m(self, request, **kwargs)\u001b[0m\n\u001b[0;32m    620\u001b[0m \u001b[1;33m\u001b[0m\u001b[0m\n\u001b[0;32m    621\u001b[0m         \u001b[1;31m# Send the request\u001b[0m\u001b[1;33m\u001b[0m\u001b[1;33m\u001b[0m\u001b[1;33m\u001b[0m\u001b[0m\n\u001b[1;32m--> 622\u001b[1;33m         \u001b[0mr\u001b[0m \u001b[1;33m=\u001b[0m \u001b[0madapter\u001b[0m\u001b[1;33m.\u001b[0m\u001b[0msend\u001b[0m\u001b[1;33m(\u001b[0m\u001b[0mrequest\u001b[0m\u001b[1;33m,\u001b[0m \u001b[1;33m**\u001b[0m\u001b[0mkwargs\u001b[0m\u001b[1;33m)\u001b[0m\u001b[1;33m\u001b[0m\u001b[1;33m\u001b[0m\u001b[0m\n\u001b[0m\u001b[0;32m    623\u001b[0m \u001b[1;33m\u001b[0m\u001b[0m\n\u001b[0;32m    624\u001b[0m         \u001b[1;31m# Total elapsed time of the request (approximately)\u001b[0m\u001b[1;33m\u001b[0m\u001b[1;33m\u001b[0m\u001b[1;33m\u001b[0m\u001b[0m\n",
      "\u001b[1;32m~\\Anaconda3\\lib\\site-packages\\requests\\adapters.py\u001b[0m in \u001b[0;36msend\u001b[1;34m(self, request, stream, timeout, verify, cert, proxies)\u001b[0m\n\u001b[0;32m    443\u001b[0m                     \u001b[0mdecode_content\u001b[0m\u001b[1;33m=\u001b[0m\u001b[1;32mFalse\u001b[0m\u001b[1;33m,\u001b[0m\u001b[1;33m\u001b[0m\u001b[1;33m\u001b[0m\u001b[0m\n\u001b[0;32m    444\u001b[0m                     \u001b[0mretries\u001b[0m\u001b[1;33m=\u001b[0m\u001b[0mself\u001b[0m\u001b[1;33m.\u001b[0m\u001b[0mmax_retries\u001b[0m\u001b[1;33m,\u001b[0m\u001b[1;33m\u001b[0m\u001b[1;33m\u001b[0m\u001b[0m\n\u001b[1;32m--> 445\u001b[1;33m                     \u001b[0mtimeout\u001b[0m\u001b[1;33m=\u001b[0m\u001b[0mtimeout\u001b[0m\u001b[1;33m\u001b[0m\u001b[1;33m\u001b[0m\u001b[0m\n\u001b[0m\u001b[0;32m    446\u001b[0m                 )\n\u001b[0;32m    447\u001b[0m \u001b[1;33m\u001b[0m\u001b[0m\n",
      "\u001b[1;32m~\\Anaconda3\\lib\\site-packages\\urllib3\\connectionpool.py\u001b[0m in \u001b[0;36murlopen\u001b[1;34m(self, method, url, body, headers, retries, redirect, assert_same_host, timeout, pool_timeout, release_conn, chunked, body_pos, **response_kw)\u001b[0m\n\u001b[0;32m    598\u001b[0m                                                   \u001b[0mtimeout\u001b[0m\u001b[1;33m=\u001b[0m\u001b[0mtimeout_obj\u001b[0m\u001b[1;33m,\u001b[0m\u001b[1;33m\u001b[0m\u001b[1;33m\u001b[0m\u001b[0m\n\u001b[0;32m    599\u001b[0m                                                   \u001b[0mbody\u001b[0m\u001b[1;33m=\u001b[0m\u001b[0mbody\u001b[0m\u001b[1;33m,\u001b[0m \u001b[0mheaders\u001b[0m\u001b[1;33m=\u001b[0m\u001b[0mheaders\u001b[0m\u001b[1;33m,\u001b[0m\u001b[1;33m\u001b[0m\u001b[1;33m\u001b[0m\u001b[0m\n\u001b[1;32m--> 600\u001b[1;33m                                                   chunked=chunked)\n\u001b[0m\u001b[0;32m    601\u001b[0m \u001b[1;33m\u001b[0m\u001b[0m\n\u001b[0;32m    602\u001b[0m             \u001b[1;31m# If we're going to release the connection in ``finally:``, then\u001b[0m\u001b[1;33m\u001b[0m\u001b[1;33m\u001b[0m\u001b[1;33m\u001b[0m\u001b[0m\n",
      "\u001b[1;32m~\\Anaconda3\\lib\\site-packages\\urllib3\\connectionpool.py\u001b[0m in \u001b[0;36m_make_request\u001b[1;34m(self, conn, method, url, timeout, chunked, **httplib_request_kw)\u001b[0m\n\u001b[0;32m    378\u001b[0m             \u001b[1;32mexcept\u001b[0m \u001b[0mTypeError\u001b[0m\u001b[1;33m:\u001b[0m  \u001b[1;31m# Python 2.6 and older, Python 3\u001b[0m\u001b[1;33m\u001b[0m\u001b[1;33m\u001b[0m\u001b[0m\n\u001b[0;32m    379\u001b[0m                 \u001b[1;32mtry\u001b[0m\u001b[1;33m:\u001b[0m\u001b[1;33m\u001b[0m\u001b[1;33m\u001b[0m\u001b[0m\n\u001b[1;32m--> 380\u001b[1;33m                     \u001b[0mhttplib_response\u001b[0m \u001b[1;33m=\u001b[0m \u001b[0mconn\u001b[0m\u001b[1;33m.\u001b[0m\u001b[0mgetresponse\u001b[0m\u001b[1;33m(\u001b[0m\u001b[1;33m)\u001b[0m\u001b[1;33m\u001b[0m\u001b[1;33m\u001b[0m\u001b[0m\n\u001b[0m\u001b[0;32m    381\u001b[0m                 \u001b[1;32mexcept\u001b[0m \u001b[0mException\u001b[0m \u001b[1;32mas\u001b[0m \u001b[0me\u001b[0m\u001b[1;33m:\u001b[0m\u001b[1;33m\u001b[0m\u001b[1;33m\u001b[0m\u001b[0m\n\u001b[0;32m    382\u001b[0m                     \u001b[1;31m# Remove the TypeError from the exception chain in Python 3;\u001b[0m\u001b[1;33m\u001b[0m\u001b[1;33m\u001b[0m\u001b[1;33m\u001b[0m\u001b[0m\n",
      "\u001b[1;32m~\\Anaconda3\\lib\\http\\client.py\u001b[0m in \u001b[0;36mgetresponse\u001b[1;34m(self)\u001b[0m\n\u001b[0;32m   1329\u001b[0m         \u001b[1;32mtry\u001b[0m\u001b[1;33m:\u001b[0m\u001b[1;33m\u001b[0m\u001b[1;33m\u001b[0m\u001b[0m\n\u001b[0;32m   1330\u001b[0m             \u001b[1;32mtry\u001b[0m\u001b[1;33m:\u001b[0m\u001b[1;33m\u001b[0m\u001b[1;33m\u001b[0m\u001b[0m\n\u001b[1;32m-> 1331\u001b[1;33m                 \u001b[0mresponse\u001b[0m\u001b[1;33m.\u001b[0m\u001b[0mbegin\u001b[0m\u001b[1;33m(\u001b[0m\u001b[1;33m)\u001b[0m\u001b[1;33m\u001b[0m\u001b[1;33m\u001b[0m\u001b[0m\n\u001b[0m\u001b[0;32m   1332\u001b[0m             \u001b[1;32mexcept\u001b[0m \u001b[0mConnectionError\u001b[0m\u001b[1;33m:\u001b[0m\u001b[1;33m\u001b[0m\u001b[1;33m\u001b[0m\u001b[0m\n\u001b[0;32m   1333\u001b[0m                 \u001b[0mself\u001b[0m\u001b[1;33m.\u001b[0m\u001b[0mclose\u001b[0m\u001b[1;33m(\u001b[0m\u001b[1;33m)\u001b[0m\u001b[1;33m\u001b[0m\u001b[1;33m\u001b[0m\u001b[0m\n",
      "\u001b[1;32m~\\Anaconda3\\lib\\http\\client.py\u001b[0m in \u001b[0;36mbegin\u001b[1;34m(self)\u001b[0m\n\u001b[0;32m    295\u001b[0m         \u001b[1;31m# read until we get a non-100 response\u001b[0m\u001b[1;33m\u001b[0m\u001b[1;33m\u001b[0m\u001b[1;33m\u001b[0m\u001b[0m\n\u001b[0;32m    296\u001b[0m         \u001b[1;32mwhile\u001b[0m \u001b[1;32mTrue\u001b[0m\u001b[1;33m:\u001b[0m\u001b[1;33m\u001b[0m\u001b[1;33m\u001b[0m\u001b[0m\n\u001b[1;32m--> 297\u001b[1;33m             \u001b[0mversion\u001b[0m\u001b[1;33m,\u001b[0m \u001b[0mstatus\u001b[0m\u001b[1;33m,\u001b[0m \u001b[0mreason\u001b[0m \u001b[1;33m=\u001b[0m \u001b[0mself\u001b[0m\u001b[1;33m.\u001b[0m\u001b[0m_read_status\u001b[0m\u001b[1;33m(\u001b[0m\u001b[1;33m)\u001b[0m\u001b[1;33m\u001b[0m\u001b[1;33m\u001b[0m\u001b[0m\n\u001b[0m\u001b[0;32m    298\u001b[0m             \u001b[1;32mif\u001b[0m \u001b[0mstatus\u001b[0m \u001b[1;33m!=\u001b[0m \u001b[0mCONTINUE\u001b[0m\u001b[1;33m:\u001b[0m\u001b[1;33m\u001b[0m\u001b[1;33m\u001b[0m\u001b[0m\n\u001b[0;32m    299\u001b[0m                 \u001b[1;32mbreak\u001b[0m\u001b[1;33m\u001b[0m\u001b[1;33m\u001b[0m\u001b[0m\n",
      "\u001b[1;32m~\\Anaconda3\\lib\\http\\client.py\u001b[0m in \u001b[0;36m_read_status\u001b[1;34m(self)\u001b[0m\n\u001b[0;32m    256\u001b[0m \u001b[1;33m\u001b[0m\u001b[0m\n\u001b[0;32m    257\u001b[0m     \u001b[1;32mdef\u001b[0m \u001b[0m_read_status\u001b[0m\u001b[1;33m(\u001b[0m\u001b[0mself\u001b[0m\u001b[1;33m)\u001b[0m\u001b[1;33m:\u001b[0m\u001b[1;33m\u001b[0m\u001b[1;33m\u001b[0m\u001b[0m\n\u001b[1;32m--> 258\u001b[1;33m         \u001b[0mline\u001b[0m \u001b[1;33m=\u001b[0m \u001b[0mstr\u001b[0m\u001b[1;33m(\u001b[0m\u001b[0mself\u001b[0m\u001b[1;33m.\u001b[0m\u001b[0mfp\u001b[0m\u001b[1;33m.\u001b[0m\u001b[0mreadline\u001b[0m\u001b[1;33m(\u001b[0m\u001b[0m_MAXLINE\u001b[0m \u001b[1;33m+\u001b[0m \u001b[1;36m1\u001b[0m\u001b[1;33m)\u001b[0m\u001b[1;33m,\u001b[0m \u001b[1;34m\"iso-8859-1\"\u001b[0m\u001b[1;33m)\u001b[0m\u001b[1;33m\u001b[0m\u001b[1;33m\u001b[0m\u001b[0m\n\u001b[0m\u001b[0;32m    259\u001b[0m         \u001b[1;32mif\u001b[0m \u001b[0mlen\u001b[0m\u001b[1;33m(\u001b[0m\u001b[0mline\u001b[0m\u001b[1;33m)\u001b[0m \u001b[1;33m>\u001b[0m \u001b[0m_MAXLINE\u001b[0m\u001b[1;33m:\u001b[0m\u001b[1;33m\u001b[0m\u001b[1;33m\u001b[0m\u001b[0m\n\u001b[0;32m    260\u001b[0m             \u001b[1;32mraise\u001b[0m \u001b[0mLineTooLong\u001b[0m\u001b[1;33m(\u001b[0m\u001b[1;34m\"status line\"\u001b[0m\u001b[1;33m)\u001b[0m\u001b[1;33m\u001b[0m\u001b[1;33m\u001b[0m\u001b[0m\n",
      "\u001b[1;32m~\\Anaconda3\\lib\\socket.py\u001b[0m in \u001b[0;36mreadinto\u001b[1;34m(self, b)\u001b[0m\n\u001b[0;32m    584\u001b[0m         \u001b[1;32mwhile\u001b[0m \u001b[1;32mTrue\u001b[0m\u001b[1;33m:\u001b[0m\u001b[1;33m\u001b[0m\u001b[1;33m\u001b[0m\u001b[0m\n\u001b[0;32m    585\u001b[0m             \u001b[1;32mtry\u001b[0m\u001b[1;33m:\u001b[0m\u001b[1;33m\u001b[0m\u001b[1;33m\u001b[0m\u001b[0m\n\u001b[1;32m--> 586\u001b[1;33m                 \u001b[1;32mreturn\u001b[0m \u001b[0mself\u001b[0m\u001b[1;33m.\u001b[0m\u001b[0m_sock\u001b[0m\u001b[1;33m.\u001b[0m\u001b[0mrecv_into\u001b[0m\u001b[1;33m(\u001b[0m\u001b[0mb\u001b[0m\u001b[1;33m)\u001b[0m\u001b[1;33m\u001b[0m\u001b[1;33m\u001b[0m\u001b[0m\n\u001b[0m\u001b[0;32m    587\u001b[0m             \u001b[1;32mexcept\u001b[0m \u001b[0mtimeout\u001b[0m\u001b[1;33m:\u001b[0m\u001b[1;33m\u001b[0m\u001b[1;33m\u001b[0m\u001b[0m\n\u001b[0;32m    588\u001b[0m                 \u001b[0mself\u001b[0m\u001b[1;33m.\u001b[0m\u001b[0m_timeout_occurred\u001b[0m \u001b[1;33m=\u001b[0m \u001b[1;32mTrue\u001b[0m\u001b[1;33m\u001b[0m\u001b[1;33m\u001b[0m\u001b[0m\n",
      "\u001b[1;32m~\\Anaconda3\\lib\\site-packages\\urllib3\\contrib\\pyopenssl.py\u001b[0m in \u001b[0;36mrecv_into\u001b[1;34m(self, *args, **kwargs)\u001b[0m\n\u001b[0;32m    283\u001b[0m     \u001b[1;32mdef\u001b[0m \u001b[0mrecv_into\u001b[0m\u001b[1;33m(\u001b[0m\u001b[0mself\u001b[0m\u001b[1;33m,\u001b[0m \u001b[1;33m*\u001b[0m\u001b[0margs\u001b[0m\u001b[1;33m,\u001b[0m \u001b[1;33m**\u001b[0m\u001b[0mkwargs\u001b[0m\u001b[1;33m)\u001b[0m\u001b[1;33m:\u001b[0m\u001b[1;33m\u001b[0m\u001b[1;33m\u001b[0m\u001b[0m\n\u001b[0;32m    284\u001b[0m         \u001b[1;32mtry\u001b[0m\u001b[1;33m:\u001b[0m\u001b[1;33m\u001b[0m\u001b[1;33m\u001b[0m\u001b[0m\n\u001b[1;32m--> 285\u001b[1;33m             \u001b[1;32mreturn\u001b[0m \u001b[0mself\u001b[0m\u001b[1;33m.\u001b[0m\u001b[0mconnection\u001b[0m\u001b[1;33m.\u001b[0m\u001b[0mrecv_into\u001b[0m\u001b[1;33m(\u001b[0m\u001b[1;33m*\u001b[0m\u001b[0margs\u001b[0m\u001b[1;33m,\u001b[0m \u001b[1;33m**\u001b[0m\u001b[0mkwargs\u001b[0m\u001b[1;33m)\u001b[0m\u001b[1;33m\u001b[0m\u001b[1;33m\u001b[0m\u001b[0m\n\u001b[0m\u001b[0;32m    286\u001b[0m         \u001b[1;32mexcept\u001b[0m \u001b[0mOpenSSL\u001b[0m\u001b[1;33m.\u001b[0m\u001b[0mSSL\u001b[0m\u001b[1;33m.\u001b[0m\u001b[0mSysCallError\u001b[0m \u001b[1;32mas\u001b[0m \u001b[0me\u001b[0m\u001b[1;33m:\u001b[0m\u001b[1;33m\u001b[0m\u001b[1;33m\u001b[0m\u001b[0m\n\u001b[0;32m    287\u001b[0m             \u001b[1;32mif\u001b[0m \u001b[0mself\u001b[0m\u001b[1;33m.\u001b[0m\u001b[0msuppress_ragged_eofs\u001b[0m \u001b[1;32mand\u001b[0m \u001b[0me\u001b[0m\u001b[1;33m.\u001b[0m\u001b[0margs\u001b[0m \u001b[1;33m==\u001b[0m \u001b[1;33m(\u001b[0m\u001b[1;33m-\u001b[0m\u001b[1;36m1\u001b[0m\u001b[1;33m,\u001b[0m \u001b[1;34m'Unexpected EOF'\u001b[0m\u001b[1;33m)\u001b[0m\u001b[1;33m:\u001b[0m\u001b[1;33m\u001b[0m\u001b[1;33m\u001b[0m\u001b[0m\n",
      "\u001b[1;32m~\\Anaconda3\\lib\\site-packages\\OpenSSL\\SSL.py\u001b[0m in \u001b[0;36mrecv_into\u001b[1;34m(self, buffer, nbytes, flags)\u001b[0m\n\u001b[0;32m   1811\u001b[0m             \u001b[0mresult\u001b[0m \u001b[1;33m=\u001b[0m \u001b[0m_lib\u001b[0m\u001b[1;33m.\u001b[0m\u001b[0mSSL_peek\u001b[0m\u001b[1;33m(\u001b[0m\u001b[0mself\u001b[0m\u001b[1;33m.\u001b[0m\u001b[0m_ssl\u001b[0m\u001b[1;33m,\u001b[0m \u001b[0mbuf\u001b[0m\u001b[1;33m,\u001b[0m \u001b[0mnbytes\u001b[0m\u001b[1;33m)\u001b[0m\u001b[1;33m\u001b[0m\u001b[1;33m\u001b[0m\u001b[0m\n\u001b[0;32m   1812\u001b[0m         \u001b[1;32melse\u001b[0m\u001b[1;33m:\u001b[0m\u001b[1;33m\u001b[0m\u001b[1;33m\u001b[0m\u001b[0m\n\u001b[1;32m-> 1813\u001b[1;33m             \u001b[0mresult\u001b[0m \u001b[1;33m=\u001b[0m \u001b[0m_lib\u001b[0m\u001b[1;33m.\u001b[0m\u001b[0mSSL_read\u001b[0m\u001b[1;33m(\u001b[0m\u001b[0mself\u001b[0m\u001b[1;33m.\u001b[0m\u001b[0m_ssl\u001b[0m\u001b[1;33m,\u001b[0m \u001b[0mbuf\u001b[0m\u001b[1;33m,\u001b[0m \u001b[0mnbytes\u001b[0m\u001b[1;33m)\u001b[0m\u001b[1;33m\u001b[0m\u001b[1;33m\u001b[0m\u001b[0m\n\u001b[0m\u001b[0;32m   1814\u001b[0m         \u001b[0mself\u001b[0m\u001b[1;33m.\u001b[0m\u001b[0m_raise_ssl_error\u001b[0m\u001b[1;33m(\u001b[0m\u001b[0mself\u001b[0m\u001b[1;33m.\u001b[0m\u001b[0m_ssl\u001b[0m\u001b[1;33m,\u001b[0m \u001b[0mresult\u001b[0m\u001b[1;33m)\u001b[0m\u001b[1;33m\u001b[0m\u001b[1;33m\u001b[0m\u001b[0m\n\u001b[0;32m   1815\u001b[0m \u001b[1;33m\u001b[0m\u001b[0m\n",
      "\u001b[1;31mKeyboardInterrupt\u001b[0m: "
     ]
    }
   ],
   "source": [
    "from textblob import TextBlob\n",
    "from py_translator import Translator\n",
    "import re\n",
    "data =[] \n",
    "\n",
    "emoji_pattern = re.compile(\"[\"\n",
    "        u\"\\U0001F600-\\U0001F64F\"  # emoticons\n",
    "        u\"\\U0001F300-\\U0001F5FF\"  # symbols & pictographs\n",
    "        u\"\\U0001F680-\\U0001F6FF\"  # transport & map symbols\n",
    "        u\"\\U0001F1E0-\\U0001F1FF\"  # flags (iOS)\n",
    "                           \"]+\", flags=re.UNICODE)\n",
    "#emoji_pattern.sub(r'', text)\n",
    "\n",
    "with open('27-10/data1.txt', 'rt', encoding='utf-8') as ficheiro:\n",
    "    a=0\n",
    "    for linha in ficheiro:\n",
    "        translator = Translator()\n",
    "        try:\n",
    "            #print(linha)\n",
    "            translated = translator.translate(text=emoji_pattern.sub(r'', linha), dest='en').text\n",
    "            data.append(translated)\n",
    "            a+=1\n",
    "            print(a)\n",
    "            if(a==1500):\n",
    "                break\n",
    "            sleep(.4)\n",
    "        #print(data[a])\n",
    "        except Exception as e:\n",
    "            a-=1\n",
    "            print(str(e))\n",
    "            continue\n",
    "        "
   ]
  },
  {
   "cell_type": "code",
   "execution_count": 49,
   "metadata": {},
   "outputs": [
    {
     "name": "stdout",
     "output_type": "stream",
     "text": [
      "['Those who celebrate Lenin, Stalin, Mao, Fidel, Che, Chavez and Maduro, among other communist butchers, responsible for the oppression and death of millions condemn Bolsonaro for his support of Colonel Ustra, who was fighting against this type of genocidal disaster.', 'Vox Populi: Bolsonaro and Haddad are tied - CartaCapital https://t.co/jRm18AiMso', \"MY FRIENDS, SÃO PAULO IS THE LOCOMOTIVE OF BRAZIL AND CAN NOT STAY AT PT'S AND MST'S ALLY HANDS SO WE HAVE TO CHOOSE JOÃO DÓRIA THAT IS ON THE SIDE OF BOLSONARO! VOTE BOLSONARO 17 AND JOÃO DÍA 45 #AmanhaBolsoDoria SPREADING STRONG !!!! ~\", 'If you are one of those who does not recognize that there are good people who will vote for Haddad or Bolsonaro because they believe in different paths to the same goal and judge the character of people just by voting, beware. Personal projections have more to do with us than with another.', 'Face to FaceBolsonaro, no! A pluralistic, tolerant and democratic person does not vote for Jair Bolsonaro for a million reasons. I will content myself to quote only ten: 1) Do not vote for who has a torturer ... https://t.co/3Q8PG1NrXl', '# SanatorioGeneral Ciro Gomes explains that he will not vote in Haddad, nor in Bolsonaro, nor in blank, nor cancel the vote, nor abstain https://t.co/QqMS0iKQZ2', '@Lucimarfjk @guia_voto O Bolsonaro may even have old-fashioned ideas, but the petezada friend is much worse! # MudaBrasil17 https://t.co/DXUKVrvuoF', \"MY FRIENDS, SÃO PAULO IS THE LOCOMOTIVE OF BRAZIL AND CAN NOT STAY AT PT'S AND MST'S ALLY HANDS SO WE HAVE TO CHOOSE JOÃO DÓRIA THAT IS ON THE SIDE OF BOLSONARO! VOTE BOLSONARO 17 AND JOÃO DÍA 45 #AmanhaBolsoDoria SPREADING STRONG !!!! ~\", 'Good bandit is a bandit that hides himself from being intimidated https://t.co/LgQGItT1lG', '#AmanhaBolsoDoria no doubt comes of socialism ... https://t.co/nK1e0M55w0', 'Bolsonaro overtakes Haddad in 91% of big cities in the Country - Politics - Estadão https://t.co/52IyPnVGQK', 'gay men of bcharts, pandlr and lana de vevo ray meeting in the same cell in the dictatorship of bolsonaro: https://t.co/6Ehrli7cZ4', \"People, let's stop fighting for politics. Whoever has been tortured by @jairbolsonaro votes in the PT! Resolved #AcabouaPiranhagemPT https://t.co/oFgQlo3S8G\", 'defenders of democracy were the streets talking to undecided and asking for vow in haddad spontaneously. NOBODY did the same for Bolsonaro. smacking of envy, the bolsolunáticos do not cease to curse who gave their time to democracy. Typically, they prefer dictatorship and torture.', 'I just got informed by the @MST_Oficial that a national leader of them was PRISONED for being FLIPPING in Caruaru! An absentee policing officer and voter from Bolsonaro got into an argument with him, would have taken out his gun and the arrest. ABSURD! SPREAD! WE CAN NOT ACCEPT THE WILL!', 'It is sad to see Haddad running the country campaigning and seeking support, preaching about improvements for workers, education and infrastructure, while Bolsonaro remains shielded by the internet and receiving only those who suit him at home.', 'Haddad seeks to cheer militancy by turn and says: Bolsonaro will \"crumble\" https://t.co/rF9zkm8oqH', 'just come to heaven who hates pockets', 'Joaquim Barbosa, treated like hero in acts against the PT, says that Bolsonaro \"inspires fear\" and declares vote in the PT https://t.co/KxMkkq74LH', 'Bolsonaro played stopped and fled from traditional political recipes https://t.co/3xjWOFqaZo', 'RAPAZED ATTENTION! THE TUITER IS BRUSHING ALL OUR TAGS BUT FUCK, WE WILL RISE ANOTHER ONE, AND NOW WE ARE GOING TO FOCUS ON THE IMPORTANCE OF JOÃO DÓRIA TO WIN THE ELECTIONS IN SÃO PAULO.DORIA WILL BE A GREAT ALLY OF BOLSONARO! SO I TAG #AmanhaBolsoDoria SIMBORA !', \"Less than 24 hours for the Bolsonaro to win the election and Míriam Leitão is at @GloboNews, mocking the candidate, and is also mocking Paulo Guedes. #There's no way\", 'RAPAZED ATTENTION! THE TUITER IS BRUSHING ALL OUR TAGS BUT FUCK, WE WILL RISE ANOTHER ONE, AND NOW WE ARE GOING TO FOCUS ON THE IMPORTANCE OF JOÃO DÓRIA TO WIN THE ELECTIONS IN SÃO PAULO.DORIA WILL BE A GREAT ALLY OF BOLSONARO! SO I TAG #AmanhaBolsoDoria SIMBORA !', 'The red bandit that Bolsonaro wants to wipe from the map is me. PhD student in Cultural Performances, teacher in Education, black woman, mother, with years of road for the democratization of access to culture as a \"weapon\" to cope with social inequalities. My vote is # 13.Ale Range', '@spfcrick_ @deulofeuismo_ fuck, who supports bolsonaro agrees with everything that this trash speaks', 'Joaquim Barbosa disallowed video use that Bolsonaro used TRULY. You can leave it! https://t.co/LHR5asq0os', '\"To my esteemed President, Jair Bolsonaro ... the Books revealed that God appointed you to become a successful leader for the Brazilian people ... you are representing the Menorah the Holy Candelabra\" #AcabouaPiranhagemPT https://t.co / PZnI8WHdbT', 'Urgent: The video that I supposedly declare against Bolsonaro is FALSE, it was maliciously edited. The original is here, on the MBL channel.https: //t.co/DaAKVY0xxQ', 'Luciano Huck on Bolsonaro: \"people can mature\" Roberto Justus: \"he must have regretted some sentences\" Regina Duarte: \"his homophobia is out of his mouth\" They are treating a man of 63 years, who wants to be president, as a child who does not know what he says,', 'In São Paulo Bolsonaro wins from 64 x 36. In Minas, Bolsonaro 60 x 40.No Rio, 65 x 35 in Rio Grande do Sul, 58 x 42. In Santa Catarina, 69 x 31.No DF, 71 x 29.E by Here it goes. It will not happen to Datafolha and Ibope have invented a \"technical draw\" on Saturday night.', 'Joaquim Barbosa disallowed video use that Bolsonaro used TRULY. You can leave it! https://t.co/LHR5asq0os', 'PF dismantles the group that organized violent act after victory of Bolsonaro https://t.co/Phvs8zv7Zl', 'I thought they would climb the Olavo de Carvalho in Education, after all, makes the head of the main gurus of Bolsonarism, including his own. Is not it? Will it be another DEM? https://t.co/CVNMffk96V', \"Expectation in front of the house of our President Jair Messias Bolsonaro tomorrow is 400,000 people. Let's invade Barra da Tijuca, I'm already thrilled, my God! #AcabouaPiranhagemPT\", \"Women united against Bolsonaro and by vote 13. I, @MonicaSeixas and @IsaPennaPsol are from @ psol50, party that has always been opposed to the PT. We want to continue to have this right, living in a democracy. Tomorrow has no doubt: it's 13 and confirm! # ViraVotoHaddad13 # Haddad13 https://t.co/RqEyuOniCN\", 'Fox News journalist stated: \"The regimes of Cuba and Bolivia are still living in the Bolshevik world of the 20th century. Wait until Jair Bolsonaro to be elected president of #Brasil.You will be hearing another voice from Latin America.\" #SemanaRenovahttps: // t.co/jgaqJKhell', 'Bolsonaro needs reinforced security and is at high and constant risk of being attacked by people from here and abroad. Not being part of the system has this problem. He could be a puppet and have comfort, but chose what no one had the courage to today.', '\"But the PT supports the Maduro\" And the Bolsonaro makes declarations of love to Pinochet \"The PT is corrupt\" In fact the party of the Bolsonaro and his coalitions are the ones that have more politicians retired in Brazil. In a scenario where there are only bad choices , we should go at least worse. And it\\'s Haddad. https://t.co/JmQwPFwXWx', '\"The death of Turkish democracy did not come overnight. It came gradually, through the ballot box, with the consent of millions of citizens. \" Worth to read: https://t.co/myarroRllu', 'I can not understand this attitude of Joaquim Barbosa ... something very serious must be happening to him. He has already represented for us a great hope in the Judiciary. I just do not get it', 'Bolsonaro encourages the violence of others. He himself is a coward, except that he encourages the militias, the henchmen, the violent people to come out of the closet. He is the expression of violence. It is very common in the history of peoples that cowards encourage violence.', 'City of São Paulo, my love! Ibope: In the city of SP, Haddad appears with 51% of the votes, and Bolsonaro, 49% @UOL https://t.co/xT9pIzxD2h', \"Bolsonaro's political career: Analyzing his Projects! - NF ... https://t.co/6U92BiQpb8 via @YouTube\", '# SanatorioGeneral Ciro Gomes explains that he will not vote in Haddad, nor in Bolsonaro, nor in blank, nor cancel the vote, nor abstain https://t.co/QqMS0iKQZ2', 'My prediction for the final result of the 2018 Presidential Election: • Jair Bolsonaro = 63.51% • Fernando Haddad = 36.49% # MudaBrasil17', 'Tolinha not forest!', 'Ué, arrest the author of the sentences then ... https://t.co/GRVdtDtUJ8', 'The 96-page process accuses journalist Patrícia Campos Mello of being \"avowedly Petite,\" using \"proof\" links from sites that distribute fake news, such as https://t.co/A3pOorttH9.https://t .co / oE9n9RJG3G', 'RAPAZED ATTENTION! THE TUITER IS BRUSHING ALL OUR TAGS BUT FUCK, WE WILL RISE ANOTHER ONE, AND NOW WE ARE GOING TO FOCUS ON THE IMPORTANCE OF JOÃO DÓRIA TO WIN THE ELECTIONS IN SÃO PAULO.DORIA WILL BE A GREAT ALLY OF BOLSONARO! SO I TAG #AmanhaBolsoDoria SIMBORA !', 'Now! Last LIVE by Jair Bolsonaro. Share https://t.co/FWtodwzBvK', 'just come to heaven who hates pockets', 'RAPAZED ATTENTION! THE TUITER IS BRUSHING ALL OUR TAGS BUT FUCK, WE WILL RISE ANOTHER ONE, AND NOW WE ARE GOING TO FOCUS ON THE IMPORTANCE OF JOÃO DÓRIA TO WIN THE ELECTIONS IN SÃO PAULO.DORIA WILL BE A GREAT ALLY OF BOLSONARO! SO I TAG #AmanhaBolsoDoria SIMBORA !', 'RAPAZED ATTENTION! THE TUITER IS BRUSHING ALL OUR TAGS BUT FUCK, WE WILL RISE ANOTHER ONE, AND NOW WE ARE GOING TO FOCUS ON THE IMPORTANCE OF JOÃO DÓRIA TO WIN THE ELECTIONS IN SÃO PAULO.DORIA WILL BE A GREAT ALLY OF BOLSONARO! SO I TAG #AmanhaBolsoDoria SIMBORA !', 'Head of Jornal da Record resigns and asks for a vote in HaddadA emissary of Bishop Edir Macedo was accused of pressuring his journalists to make positive material pro-Bolsonaro https://t.co/L98gfAAkqm', '@llamadepijama @ JulRamiroM1 He has not stated at any time vote or support for Bolsonaro. Did you only accept the support of the PSL staff as a strategy to respond to the bizarre accusations of DoriaConcordo? Never. But even the two do not roll about it', 'Just remembering #Bolsonaro #BolsonaroAmorDoBrasil #BolsonaroPresident #BolsonaroPresidentEleito #BolsoDoria # joãoesbornia # MudaBrasil17', 'Joaquim Barbosa FINISHED to declare publicly that it is a lie that Bolsonaro had been repeating in his campaign for years, that Joaquim had exonerated him in the process of the Mensalão.Parabéns Joaquim Barbosa, for destroying another lie of this horrible candidate. https://t.co/oW6DSpJjq7', 'Date foia goes pros ..... # MudaBrasil17']\n"
     ]
    }
   ],
   "source": [
    "print(data)\n",
    "#print(data[0].translate(from_lang='pt-br',to='en'))\n",
    "#data[2].sentiment\n"
   ]
  }
 ],
 "metadata": {
  "kernelspec": {
   "display_name": "Python 3",
   "language": "python",
   "name": "python3"
  }
 },
 "nbformat": 4,
 "nbformat_minor": 2
}
